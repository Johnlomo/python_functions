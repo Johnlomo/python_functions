{
 "cells": [
  {
   "cell_type": "markdown",
   "id": "352dd2e3",
   "metadata": {},
   "source": [
    "### Q1\n",
    "\n",
    "Define a python function that calculate the perimeter of the rectangle\n",
    "\n",
    "Formular\n",
    "\n",
    "formular => 2 X length + 2 X Width"
   ]
  },
  {
   "cell_type": "code",
   "execution_count": 1,
   "id": "1f819fab",
   "metadata": {},
   "outputs": [
    {
     "name": "stdout",
     "output_type": "stream",
     "text": [
      "Enter length of your rectangle: 4\n",
      "Enter width of your rectangle2\n",
      "The perimeter of your rectangle is: 12\n"
     ]
    }
   ],
   "source": [
    "length = int(input(\"Enter length of your rectangle: \"))\n",
    "width = int(input(\"Enter width of your rectangle\"))\n",
    "\n",
    "def perimeter(l,w):\n",
    "    prmtr = (2 * l) + (2 *w)\n",
    "    print(f\"The perimeter of your rectangle is: {prmtr}\")\n",
    "    \n",
    "perimeter(length,width)"
   ]
  },
  {
   "cell_type": "markdown",
   "id": "a56ccec8",
   "metadata": {},
   "source": [
    "### Q2\n",
    "Define the function to calculate the area of a circle. Round the answer to 3 decimal places.\n",
    "\n",
    "**Preamble**\n",
    " - Take pi as 22/7\n",
    " - formular pi x r ** 2"
   ]
  },
  {
   "cell_type": "code",
   "execution_count": 2,
   "id": "c55e179c",
   "metadata": {},
   "outputs": [
    {
     "name": "stdout",
     "output_type": "stream",
     "text": [
      "Enter radius of your circle: 5\n",
      "The area of your circle is 78.571\n"
     ]
    }
   ],
   "source": [
    "radius = int(input(\"Enter radius of your circle: \"))\n",
    "\n",
    "def area(r):\n",
    "    pi = 22/7\n",
    "    area = round((pi * (r ** 2)),3)\n",
    "    print(f\"The area of your circle is {area}\")\n",
    "    \n",
    "area(radius)"
   ]
  },
  {
   "cell_type": "markdown",
   "id": "be5a6965",
   "metadata": {},
   "source": [
    "### Q3\n",
    "Define a function that takes a list of numbers and print out the **mean**, **median** and **mode**.\n",
    "\n",
    "- Test your function with the list b\n",
    "\n",
    "`b = [2,3,4,6,7,3,4,3,2,1,3]`"
   ]
  },
  {
   "cell_type": "code",
   "execution_count": 37,
   "id": "e0e6e7fe",
   "metadata": {},
   "outputs": [
    {
     "name": "stdout",
     "output_type": "stream",
     "text": [
      "The mean of the numbers is: 3.455\n",
      "The median of the numbers is: 3\n",
      "The mode of the numbers is: 3\n"
     ]
    }
   ],
   "source": [
    "b = [2,3,4,6,7,3,4,3,2,1,3]\n",
    "frequency = {}\n",
    "\n",
    "def stats(lst):\n",
    "    mean = round(sum(lst)/len(lst),3)\n",
    "    print(f\"The mean of the numbers is: {mean}\")\n",
    "    median = sorted(b)[len(b)// 2]\n",
    "    print(f\"The median of the numbers is: {median}\") \n",
    "    for num in b:\n",
    "        if num in frequency:\n",
    "            frequency[num] += 1\n",
    "        else:\n",
    "            frequency[num] = 1\n",
    "    mode = max(frequency, key=frequency.get)\n",
    "    print(f\"The mode of the numbers is: {mode}\")    \n",
    "    \n",
    "    \n",
    "stats(b)"
   ]
  },
  {
   "cell_type": "markdown",
   "id": "3313ab10",
   "metadata": {},
   "source": [
    "### Q4\n",
    "Define a function that prints out the list of the first 20 prime numbers"
   ]
  },
  {
   "cell_type": "code",
   "execution_count": 6,
   "id": "e8003901",
   "metadata": {},
   "outputs": [
    {
     "data": {
      "text/plain": [
       "[2, 3, 5, 7, 11, 13, 17, 19, 23, 29, 31, 37, 41, 43, 47, 53, 59, 61, 67, 71]"
      ]
     },
     "execution_count": 6,
     "metadata": {},
     "output_type": "execute_result"
    }
   ],
   "source": [
    "def prime_numbers():\n",
    "    prime_numbers = []\n",
    "    for num in range(2,100):\n",
    "        for i in range(2,num):\n",
    "            if num % i == 0:\n",
    "                break\n",
    "        else:\n",
    "            prime_numbers.append(num)\n",
    "            if len(prime_numbers) == 20:\n",
    "                break\n",
    "    return prime_numbers\n",
    "\n",
    "prime_numbers()"
   ]
  },
  {
   "cell_type": "markdown",
   "id": "ef1c5863",
   "metadata": {},
   "source": [
    "#### Q5\n",
    "Define a function that takes a list of strings and print out the string and the length of the string.\n",
    "\n",
    "**Example of expected output**\n",
    "\n",
    "{\"Kofi\":4,\n",
    "\"Ama\":3,\n",
    "\"Sedem\":5}"
   ]
  },
  {
   "cell_type": "code",
   "execution_count": 12,
   "id": "f23355c4",
   "metadata": {},
   "outputs": [
    {
     "data": {
      "text/plain": [
       "{'John': 4, 'Sam': 3, 'Delali': 6}"
      ]
     },
     "execution_count": 12,
     "metadata": {},
     "output_type": "execute_result"
    }
   ],
   "source": [
    "def str_and_len(lst):\n",
    "    funct = {}\n",
    "    for i in lst:\n",
    "        funct.update({i:len(i)})\n",
    "    return funct\n",
    "\n",
    "lst=[\"John\", \"Sam\", \"Delali\"]\n",
    "\n",
    "str_and_len(lst)"
   ]
  },
  {
   "cell_type": "markdown",
   "id": "5072c8d8",
   "metadata": {},
   "source": [
    "### Q6\n",
    "Define a function that takes a list of strings and numbers and print out only the strings and the position of the strings.\n",
    "\n",
    "**Preamble**\n",
    "\n",
    "names = ['sedem', 'Kofi', 'kobla']\n",
    "\n",
    "**Expected Output**\n",
    "\n",
    "{'sedem': P0, 'Kofi': P1, 'kobla': P2}"
   ]
  },
  {
   "cell_type": "code",
   "execution_count": 15,
   "id": "f10dd1cb",
   "metadata": {},
   "outputs": [
    {
     "data": {
      "text/plain": [
       "{'sedem': 0, 'Kofi': 1, 'kobla': 2}"
      ]
     },
     "execution_count": 15,
     "metadata": {},
     "output_type": "execute_result"
    }
   ],
   "source": [
    "def strings_positions(lst):\n",
    "    funct = {}\n",
    "    for index,value in enumerate(lst):\n",
    "        if type(value) == str:\n",
    "            funct.update({value:index})\n",
    "    return funct\n",
    "\n",
    "names = ['sedem', 'Kofi', 'kobla']\n",
    "strings_positions(names)"
   ]
  },
  {
   "cell_type": "markdown",
   "id": "5593b665",
   "metadata": {},
   "source": [
    "### Q7\n",
    "Define a function that returns whether the sum of a person age and person's date of birth equals 2023\n",
    "\n",
    "**Preamble**\n",
    "\n",
    "2001 + 22 => True\n",
    "\n",
    "2002 + 5 => False"
   ]
  },
  {
   "cell_type": "code",
   "execution_count": 18,
   "id": "af82519a",
   "metadata": {},
   "outputs": [
    {
     "name": "stdout",
     "output_type": "stream",
     "text": [
      "Enter your age: 21\n",
      "Enter your birth year: 2000\n",
      "2021 => False\n"
     ]
    }
   ],
   "source": [
    "age=int(input(\"Enter your age: \"))\n",
    "birth_year=int(input(\"Enter your birth year: \"))\n",
    "\n",
    "def age_checker(age,year):\n",
    "    if age + year == 2023:\n",
    "        print(f\"{age + year} => True\")\n",
    "    else:\n",
    "        print(f\"{age + year} => False\")\n",
    "              \n",
    "age_checker(age,birth_year)"
   ]
  },
  {
   "cell_type": "markdown",
   "id": "f831e652",
   "metadata": {},
   "source": [
    "### Q8\n",
    "Define a function that determine whether a particular year is a **decade**, the output should be a boolean (True or False)\n"
   ]
  },
  {
   "cell_type": "code",
   "execution_count": 20,
   "id": "66d6c2c6",
   "metadata": {},
   "outputs": [
    {
     "name": "stdout",
     "output_type": "stream",
     "text": [
      "Enter year: 2000\n",
      "True\n"
     ]
    }
   ],
   "source": [
    "year = int(input(\"Enter year: \"))\n",
    "\n",
    "def decade_checker(year):\n",
    "    if year % 10 == 0:\n",
    "        print(True)\n",
    "    else:\n",
    "        print(False)\n",
    "decade_checker(year)\n"
   ]
  },
  {
   "cell_type": "markdown",
   "id": "211c19e3",
   "metadata": {},
   "source": [
    "### Q9\n",
    "Define a function that contains a list of strings and punctuations,the output should on return the list of punctuations.\n"
   ]
  },
  {
   "cell_type": "code",
   "execution_count": 35,
   "id": "9fd0ec58",
   "metadata": {},
   "outputs": [],
   "source": [
    "def punctuations(lst):\n",
    "    puncts = []\n",
    "    for item in lst:\n",
    "        if not item.isalpha():\n",
    "            puncts.append(item)\n",
    "    return puncts"
   ]
  },
  {
   "cell_type": "code",
   "execution_count": 36,
   "id": "93fa3a59",
   "metadata": {},
   "outputs": [
    {
     "data": {
      "text/plain": [
       "[',', '/']"
      ]
     },
     "execution_count": 36,
     "metadata": {},
     "output_type": "execute_result"
    }
   ],
   "source": [
    "lst = [\"birds\", \"cats\", \",\" , \"/\", \"fan\"]\n",
    "\n",
    "punctuations(lst)"
   ]
  },
  {
   "cell_type": "markdown",
   "id": "34bae9ec",
   "metadata": {},
   "source": [
    "### Q10\n",
    "\n",
    "Define a lambda function that print out the cubic root of a list of numbers"
   ]
  },
  {
   "cell_type": "code",
   "execution_count": 19,
   "id": "bb81a715",
   "metadata": {},
   "outputs": [
    {
     "data": {
      "text/plain": [
       "[1.4422495703074083,\n",
       " 1.5874010519681994,\n",
       " 1.912931182772389,\n",
       " 2.0,\n",
       " 3.1072325059538586,\n",
       " 2.080083823051904,\n",
       " 1.7099759466766968]"
      ]
     },
     "execution_count": 19,
     "metadata": {},
     "output_type": "execute_result"
    }
   ],
   "source": [
    "num_list = [3, 4, 7, 8, 30, 9, 5]\n",
    "cubic_root = lambda num_list: [x ** (1/3) for x in num_list]\n",
    "\n",
    "cubic_root(num_list)"
   ]
  },
  {
   "cell_type": "markdown",
   "id": "37974632",
   "metadata": {},
   "source": [
    "### Q11\n",
    "Define a lambda function that print out the cube of a list of numbers"
   ]
  },
  {
   "cell_type": "code",
   "execution_count": 20,
   "id": "b4001ce1",
   "metadata": {},
   "outputs": [
    {
     "data": {
      "text/plain": [
       "[27, 64, 343, 512, 27000, 729, 125]"
      ]
     },
     "execution_count": 20,
     "metadata": {},
     "output_type": "execute_result"
    }
   ],
   "source": [
    "num_list = [3, 4, 7, 8, 30, 9, 5]\n",
    "cube = lambda num_list: [x ** 3 for x in num_list]\n",
    "\n",
    "cube(num_list)"
   ]
  },
  {
   "cell_type": "markdown",
   "id": "b1522dbb",
   "metadata": {},
   "source": [
    "### Q12\n",
    "Define a function that take a list of list of numbers and return a list that contains the average of each sublist using map."
   ]
  },
  {
   "cell_type": "code",
   "execution_count": 1,
   "id": "f02e71a3",
   "metadata": {},
   "outputs": [
    {
     "data": {
      "text/plain": [
       "[3.0, 6.0, 6.0]"
      ]
     },
     "execution_count": 1,
     "metadata": {},
     "output_type": "execute_result"
    }
   ],
   "source": [
    "numbers = [[3,2,4],[6,5,7],[8,9,1]]\n",
    "\n",
    "def average(lst):\n",
    "    mean = sum(lst)/len(lst)\n",
    "    return mean\n",
    "\n",
    "mapping = list(map(average, numbers))\n",
    "mapping"
   ]
  },
  {
   "cell_type": "markdown",
   "id": "0fd5cd06",
   "metadata": {},
   "source": [
    "### Q13\n",
    "Define a function that takes a list of strings and filter out strings that are upper case."
   ]
  },
  {
   "cell_type": "code",
   "execution_count": 45,
   "id": "5e0cba29",
   "metadata": {},
   "outputs": [
    {
     "data": {
      "text/plain": [
       "['DELALI', 'JOANA', 'JOHN']"
      ]
     },
     "execution_count": 45,
     "metadata": {},
     "output_type": "execute_result"
    }
   ],
   "source": [
    "strings = ['DELALI','Blossom','JOANA','JOHN','Academy']\n",
    "def uppercase(arg):\n",
    "    upper = []\n",
    "    for item in arg:\n",
    "        if item.isupper():\n",
    "            upper.append(item)\n",
    "    return upper\n",
    "            \n",
    "uppercase(strings)"
   ]
  },
  {
   "cell_type": "markdown",
   "id": "d0dddd17",
   "metadata": {},
   "source": [
    "### Q14\n",
    "Define a function that takes a list of numbers and print out the numbers which are prime in the list."
   ]
  },
  {
   "cell_type": "code",
   "execution_count": 3,
   "id": "f3edf125",
   "metadata": {},
   "outputs": [
    {
     "data": {
      "text/plain": [
       "[5, 7, 11, 13]"
      ]
     },
     "execution_count": 3,
     "metadata": {},
     "output_type": "execute_result"
    }
   ],
   "source": [
    "def prime_checker(lst):\n",
    "    prime_list = []\n",
    "    for num in lst:\n",
    "        for i in range(2,num):\n",
    "            if num % i == 0:\n",
    "                break\n",
    "        else:\n",
    "            prime_list.append(num)\n",
    "    return prime_list\n",
    "\n",
    "prime_checker(range(5,16))"
   ]
  },
  {
   "cell_type": "markdown",
   "id": "240741dc",
   "metadata": {},
   "source": [
    "### Q15\n",
    "Define a function that take a list of strings and return a zip of each string and length of a string."
   ]
  },
  {
   "cell_type": "code",
   "execution_count": 4,
   "id": "06c4bdb9",
   "metadata": {},
   "outputs": [
    {
     "name": "stdout",
     "output_type": "stream",
     "text": [
      "('I', 1)\n",
      "('love', 4)\n",
      "('python', 6)\n",
      "('programming', 11)\n"
     ]
    }
   ],
   "source": [
    "def string_count(list):\n",
    "    zipped = zip(list,map(len,list))\n",
    "    for z in zipped:\n",
    "        print (z)\n",
    "        \n",
    "strings = [\"I\", \"love\", \"python\", \"programming\"]\n",
    "string_count(strings)"
   ]
  },
  {
   "cell_type": "markdown",
   "id": "44a1339f",
   "metadata": {},
   "source": [
    "### Q16\n",
    "Define a function that takes in a number and return the first 12 multiples of the the number.\n",
    "\n",
    "Expected Output\n",
    "\n",
    "2 X 1 = 2\n",
    "\n",
    "to\n",
    "\n",
    "2 X 12 = 24"
   ]
  },
  {
   "cell_type": "code",
   "execution_count": 8,
   "id": "69936901",
   "metadata": {},
   "outputs": [
    {
     "name": "stdout",
     "output_type": "stream",
     "text": [
      "Enter number: 5\n",
      "5 x 1 = 5\n",
      "5 x 2 = 10\n",
      "5 x 3 = 15\n",
      "5 x 4 = 20\n",
      "5 x 5 = 25\n",
      "5 x 6 = 30\n",
      "5 x 7 = 35\n",
      "5 x 8 = 40\n",
      "5 x 9 = 45\n",
      "5 x 10 = 50\n",
      "5 x 11 = 55\n",
      "5 x 12 = 60\n"
     ]
    }
   ],
   "source": [
    "number=int(input(\"Enter number: \"))\n",
    "\n",
    "def multiplication(num):\n",
    "    for i in range(1,13):\n",
    "        print(f\"{num} x {i} = {num * i}\")\n",
    "        \n",
    "multiplication(number)"
   ]
  },
  {
   "cell_type": "markdown",
   "id": "cd63dd99",
   "metadata": {},
   "source": [
    "### Q17\n",
    "Write a Python function to find the maximum of three numbers.\n",
    "\n",
    "**Do not use the max function**"
   ]
  },
  {
   "cell_type": "code",
   "execution_count": 13,
   "id": "a4fe64c4",
   "metadata": {},
   "outputs": [
    {
     "name": "stdout",
     "output_type": "stream",
     "text": [
      "Enter number: 45\n",
      "Enter number: 33\n",
      "Enter number: 12\n",
      "45\n"
     ]
    }
   ],
   "source": [
    "first_num= int(input(\"Enter number: \"))\n",
    "second_num = int(input(\"Enter number: \"))\n",
    "third_num = int(input(\"Enter number: \"))\n",
    "\n",
    "lst = [first_num, second_num, third_num]\n",
    "\n",
    "def highest_number(num):\n",
    "    print(sorted(lst)[2])\n",
    "    \n",
    "highest_number(lst)   "
   ]
  },
  {
   "cell_type": "code",
   "execution_count": 31,
   "id": "83b89a20",
   "metadata": {},
   "outputs": [
    {
     "name": "stdout",
     "output_type": "stream",
     "text": [
      "Enter number: 23\n",
      "Enter number: 44\n",
      "Enter number: 89\n",
      "89 is the maximum\n"
     ]
    }
   ],
   "source": [
    "first = int(input(\"Enter number: \"))\n",
    "second = int(input(\"Enter number: \"))\n",
    "third = int(input(\"Enter number: \"))\n",
    "\n",
    "\n",
    "def highest(first,second,third):\n",
    "    if first > second and first > third:\n",
    "        print(f\"{first} is the maximum\")\n",
    "    elif second > first and second > third:\n",
    "        print(f\"{second} is the maximum\")\n",
    "    else:\n",
    "        print(f\"{third} is the maximum\")\n",
    "        \n",
    "highest(first,second,third)"
   ]
  },
  {
   "cell_type": "markdown",
   "id": "67520c0b",
   "metadata": {},
   "source": [
    "### Q18\n",
    "Write a Python function to multiply all the numbers in a list."
   ]
  },
  {
   "cell_type": "code",
   "execution_count": 14,
   "id": "e80c77dc",
   "metadata": {},
   "outputs": [
    {
     "data": {
      "text/plain": [
       "720"
      ]
     },
     "execution_count": 14,
     "metadata": {},
     "output_type": "execute_result"
    }
   ],
   "source": [
    "def multiplier(lst):\n",
    "    multi = 1\n",
    "    for number in lst:\n",
    "        multi *= number\n",
    "    return multi\n",
    "\n",
    "muls = [2,3,4,5,6]\n",
    "multiplier(muls)"
   ]
  },
  {
   "cell_type": "markdown",
   "id": "05891582",
   "metadata": {},
   "source": [
    "### Q19\n",
    "Write a Python program to reverse a string"
   ]
  },
  {
   "cell_type": "code",
   "execution_count": 16,
   "id": "e215cb71",
   "metadata": {},
   "outputs": [
    {
     "name": "stdout",
     "output_type": "stream",
     "text": [
      "Enter any word of your choice: hello\n",
      "olleh\n"
     ]
    }
   ],
   "source": [
    "user = input('Enter any word of your choice: ')\n",
    "\n",
    "def reverse(word):\n",
    "    print(word[::-1])\n",
    "    \n",
    "reverse(user)"
   ]
  },
  {
   "cell_type": "markdown",
   "id": "b9025ac8",
   "metadata": {},
   "source": [
    "### Q20\n",
    "Write a python function to return the length of a string."
   ]
  },
  {
   "cell_type": "code",
   "execution_count": 29,
   "id": "8738de27",
   "metadata": {},
   "outputs": [
    {
     "name": "stdout",
     "output_type": "stream",
     "text": [
      "9\n"
     ]
    }
   ],
   "source": [
    "def length(str):\n",
    "    print(len(str))\n",
    "        \n",
    "string =\"himalayas\"\n",
    "\n",
    "length(string)"
   ]
  },
  {
   "cell_type": "markdown",
   "id": "8d1ee176",
   "metadata": {},
   "source": [
    "Have a lovely coding weekend"
   ]
  }
 ],
 "metadata": {
  "kernelspec": {
   "display_name": "Python 3 (ipykernel)",
   "language": "python",
   "name": "python3"
  },
  "language_info": {
   "codemirror_mode": {
    "name": "ipython",
    "version": 3
   },
   "file_extension": ".py",
   "mimetype": "text/x-python",
   "name": "python",
   "nbconvert_exporter": "python",
   "pygments_lexer": "ipython3",
   "version": "3.9.13"
  }
 },
 "nbformat": 4,
 "nbformat_minor": 5
}
